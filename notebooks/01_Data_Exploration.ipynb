{
  "nbformat": 4,
  "nbformat_minor": 0,
  "metadata": {
    "colab": {
      "name": "01-Data Exploration.ipynb",
      "provenance": [],
      "collapsed_sections": []
    },
    "kernelspec": {
      "name": "python3",
      "display_name": "Python 3"
    },
    "language_info": {
      "name": "python"
    }
  },
  "cells": [
    {
      "cell_type": "markdown",
      "source": [
        "# Prepare Environment and Import Libraries"
      ],
      "metadata": {
        "id": "bupgwhe6UZNy"
      }
    },
    {
      "cell_type": "code",
      "source": [
        "from google.colab import drive\n",
        "drive.mount('/content/drive', force_remount=True)\n",
        "PROJECT_FOLDER = \"/content/drive/MyDrive/Paraphrasing Project\""
      ],
      "metadata": {
        "colab": {
          "base_uri": "https://localhost:8080/"
        },
        "id": "rdA3issBFAXf",
        "outputId": "09e60504-670a-4ccc-a597-e3b7eadb1ae6"
      },
      "execution_count": null,
      "outputs": [
        {
          "output_type": "stream",
          "name": "stdout",
          "text": [
            "Mounted at /content/drive\n"
          ]
        }
      ]
    },
    {
      "cell_type": "code",
      "source": [
        "# download packages\n",
        "!pip install contractions autocorrect language-tool-python wordcloud swifter"
      ],
      "metadata": {
        "colab": {
          "base_uri": "https://localhost:8080/",
          "height": 1000
        },
        "id": "2faeALPbI68k",
        "outputId": "8e736c82-ef5a-4c38-e5ee-4bb692086e35"
      },
      "execution_count": null,
      "outputs": [
        {
          "output_type": "stream",
          "name": "stdout",
          "text": [
            "Collecting contractions\n",
            "  Downloading contractions-0.1.66-py2.py3-none-any.whl (8.0 kB)\n",
            "Collecting autocorrect\n",
            "  Downloading autocorrect-2.6.1.tar.gz (622 kB)\n",
            "\u001b[K     |████████████████████████████████| 622 kB 5.3 MB/s \n",
            "\u001b[?25hCollecting language-tool-python\n",
            "  Downloading language_tool_python-2.7.0-py3-none-any.whl (34 kB)\n",
            "Requirement already satisfied: wordcloud in /usr/local/lib/python3.7/dist-packages (1.5.0)\n",
            "Collecting swifter\n",
            "  Downloading swifter-1.1.2.tar.gz (633 kB)\n",
            "\u001b[K     |████████████████████████████████| 633 kB 31.8 MB/s \n",
            "\u001b[?25hCollecting textsearch>=0.0.21\n",
            "  Downloading textsearch-0.0.21-py2.py3-none-any.whl (7.5 kB)\n",
            "Collecting pyahocorasick\n",
            "  Downloading pyahocorasick-1.4.4-cp37-cp37m-manylinux_2_17_x86_64.manylinux2014_x86_64.whl (106 kB)\n",
            "\u001b[K     |████████████████████████████████| 106 kB 41.7 MB/s \n",
            "\u001b[?25hCollecting anyascii\n",
            "  Downloading anyascii-0.3.0-py3-none-any.whl (284 kB)\n",
            "\u001b[K     |████████████████████████████████| 284 kB 50.5 MB/s \n",
            "\u001b[?25hRequirement already satisfied: requests in /usr/local/lib/python3.7/dist-packages (from language-tool-python) (2.23.0)\n",
            "Requirement already satisfied: tqdm in /usr/local/lib/python3.7/dist-packages (from language-tool-python) (4.62.3)\n",
            "Requirement already satisfied: pillow in /usr/local/lib/python3.7/dist-packages (from wordcloud) (7.1.2)\n",
            "Requirement already satisfied: numpy>=1.6.1 in /usr/local/lib/python3.7/dist-packages (from wordcloud) (1.21.5)\n",
            "Requirement already satisfied: pandas>=1.0.0 in /usr/local/lib/python3.7/dist-packages (from swifter) (1.3.5)\n",
            "Collecting psutil>=5.6.6\n",
            "  Downloading psutil-5.9.0-cp37-cp37m-manylinux_2_12_x86_64.manylinux2010_x86_64.manylinux_2_17_x86_64.manylinux2014_x86_64.whl (280 kB)\n",
            "\u001b[K     |████████████████████████████████| 280 kB 43.4 MB/s \n",
            "\u001b[?25hRequirement already satisfied: dask[dataframe]>=2.10.0 in /usr/local/lib/python3.7/dist-packages (from swifter) (2.12.0)\n",
            "Requirement already satisfied: ipywidgets>=7.0.0 in /usr/local/lib/python3.7/dist-packages (from swifter) (7.6.5)\n",
            "Requirement already satisfied: cloudpickle>=0.2.2 in /usr/local/lib/python3.7/dist-packages (from swifter) (1.3.0)\n",
            "Requirement already satisfied: parso>0.4.0 in /usr/local/lib/python3.7/dist-packages (from swifter) (0.8.3)\n",
            "Requirement already satisfied: bleach>=3.1.1 in /usr/local/lib/python3.7/dist-packages (from swifter) (4.1.0)\n",
            "Requirement already satisfied: webencodings in /usr/local/lib/python3.7/dist-packages (from bleach>=3.1.1->swifter) (0.5.1)\n",
            "Requirement already satisfied: packaging in /usr/local/lib/python3.7/dist-packages (from bleach>=3.1.1->swifter) (21.3)\n",
            "Requirement already satisfied: six>=1.9.0 in /usr/local/lib/python3.7/dist-packages (from bleach>=3.1.1->swifter) (1.15.0)\n",
            "Requirement already satisfied: toolz>=0.7.3 in /usr/local/lib/python3.7/dist-packages (from dask[dataframe]>=2.10.0->swifter) (0.11.2)\n",
            "Collecting partd>=0.3.10\n",
            "  Downloading partd-1.2.0-py3-none-any.whl (19 kB)\n",
            "Collecting fsspec>=0.6.0\n",
            "  Downloading fsspec-2022.2.0-py3-none-any.whl (134 kB)\n",
            "\u001b[K     |████████████████████████████████| 134 kB 46.1 MB/s \n",
            "\u001b[?25hRequirement already satisfied: nbformat>=4.2.0 in /usr/local/lib/python3.7/dist-packages (from ipywidgets>=7.0.0->swifter) (5.1.3)\n",
            "Requirement already satisfied: traitlets>=4.3.1 in /usr/local/lib/python3.7/dist-packages (from ipywidgets>=7.0.0->swifter) (5.1.1)\n",
            "Requirement already satisfied: ipykernel>=4.5.1 in /usr/local/lib/python3.7/dist-packages (from ipywidgets>=7.0.0->swifter) (4.10.1)\n",
            "Requirement already satisfied: ipython>=4.0.0 in /usr/local/lib/python3.7/dist-packages (from ipywidgets>=7.0.0->swifter) (5.5.0)\n",
            "Requirement already satisfied: widgetsnbextension~=3.5.0 in /usr/local/lib/python3.7/dist-packages (from ipywidgets>=7.0.0->swifter) (3.5.2)\n",
            "Requirement already satisfied: jupyterlab-widgets>=1.0.0 in /usr/local/lib/python3.7/dist-packages (from ipywidgets>=7.0.0->swifter) (1.0.2)\n",
            "Requirement already satisfied: ipython-genutils~=0.2.0 in /usr/local/lib/python3.7/dist-packages (from ipywidgets>=7.0.0->swifter) (0.2.0)\n",
            "Requirement already satisfied: jupyter-client in /usr/local/lib/python3.7/dist-packages (from ipykernel>=4.5.1->ipywidgets>=7.0.0->swifter) (5.3.5)\n",
            "Requirement already satisfied: tornado>=4.0 in /usr/local/lib/python3.7/dist-packages (from ipykernel>=4.5.1->ipywidgets>=7.0.0->swifter) (5.1.1)\n",
            "Requirement already satisfied: decorator in /usr/local/lib/python3.7/dist-packages (from ipython>=4.0.0->ipywidgets>=7.0.0->swifter) (4.4.2)\n",
            "Requirement already satisfied: pygments in /usr/local/lib/python3.7/dist-packages (from ipython>=4.0.0->ipywidgets>=7.0.0->swifter) (2.6.1)\n",
            "Requirement already satisfied: simplegeneric>0.8 in /usr/local/lib/python3.7/dist-packages (from ipython>=4.0.0->ipywidgets>=7.0.0->swifter) (0.8.1)\n",
            "Requirement already satisfied: pexpect in /usr/local/lib/python3.7/dist-packages (from ipython>=4.0.0->ipywidgets>=7.0.0->swifter) (4.8.0)\n",
            "Requirement already satisfied: prompt-toolkit<2.0.0,>=1.0.4 in /usr/local/lib/python3.7/dist-packages (from ipython>=4.0.0->ipywidgets>=7.0.0->swifter) (1.0.18)\n",
            "Requirement already satisfied: pickleshare in /usr/local/lib/python3.7/dist-packages (from ipython>=4.0.0->ipywidgets>=7.0.0->swifter) (0.7.5)\n",
            "Requirement already satisfied: setuptools>=18.5 in /usr/local/lib/python3.7/dist-packages (from ipython>=4.0.0->ipywidgets>=7.0.0->swifter) (57.4.0)\n",
            "Requirement already satisfied: jsonschema!=2.5.0,>=2.4 in /usr/local/lib/python3.7/dist-packages (from nbformat>=4.2.0->ipywidgets>=7.0.0->swifter) (4.3.3)\n",
            "Requirement already satisfied: jupyter-core in /usr/local/lib/python3.7/dist-packages (from nbformat>=4.2.0->ipywidgets>=7.0.0->swifter) (4.9.2)\n",
            "Requirement already satisfied: pyrsistent!=0.17.0,!=0.17.1,!=0.17.2,>=0.14.0 in /usr/local/lib/python3.7/dist-packages (from jsonschema!=2.5.0,>=2.4->nbformat>=4.2.0->ipywidgets>=7.0.0->swifter) (0.18.1)\n",
            "Requirement already satisfied: typing-extensions in /usr/local/lib/python3.7/dist-packages (from jsonschema!=2.5.0,>=2.4->nbformat>=4.2.0->ipywidgets>=7.0.0->swifter) (3.10.0.2)\n",
            "Requirement already satisfied: importlib-metadata in /usr/local/lib/python3.7/dist-packages (from jsonschema!=2.5.0,>=2.4->nbformat>=4.2.0->ipywidgets>=7.0.0->swifter) (4.11.1)\n",
            "Requirement already satisfied: importlib-resources>=1.4.0 in /usr/local/lib/python3.7/dist-packages (from jsonschema!=2.5.0,>=2.4->nbformat>=4.2.0->ipywidgets>=7.0.0->swifter) (5.4.0)\n",
            "Requirement already satisfied: attrs>=17.4.0 in /usr/local/lib/python3.7/dist-packages (from jsonschema!=2.5.0,>=2.4->nbformat>=4.2.0->ipywidgets>=7.0.0->swifter) (21.4.0)\n",
            "Requirement already satisfied: zipp>=3.1.0 in /usr/local/lib/python3.7/dist-packages (from importlib-resources>=1.4.0->jsonschema!=2.5.0,>=2.4->nbformat>=4.2.0->ipywidgets>=7.0.0->swifter) (3.7.0)\n",
            "Requirement already satisfied: python-dateutil>=2.7.3 in /usr/local/lib/python3.7/dist-packages (from pandas>=1.0.0->swifter) (2.8.2)\n",
            "Requirement already satisfied: pytz>=2017.3 in /usr/local/lib/python3.7/dist-packages (from pandas>=1.0.0->swifter) (2018.9)\n",
            "Collecting locket\n",
            "  Downloading locket-0.2.1-py2.py3-none-any.whl (4.1 kB)\n",
            "Requirement already satisfied: wcwidth in /usr/local/lib/python3.7/dist-packages (from prompt-toolkit<2.0.0,>=1.0.4->ipython>=4.0.0->ipywidgets>=7.0.0->swifter) (0.2.5)\n",
            "Requirement already satisfied: notebook>=4.4.1 in /usr/local/lib/python3.7/dist-packages (from widgetsnbextension~=3.5.0->ipywidgets>=7.0.0->swifter) (5.3.1)\n",
            "Requirement already satisfied: terminado>=0.8.1 in /usr/local/lib/python3.7/dist-packages (from notebook>=4.4.1->widgetsnbextension~=3.5.0->ipywidgets>=7.0.0->swifter) (0.13.1)\n",
            "Requirement already satisfied: jinja2 in /usr/local/lib/python3.7/dist-packages (from notebook>=4.4.1->widgetsnbextension~=3.5.0->ipywidgets>=7.0.0->swifter) (2.11.3)\n",
            "Requirement already satisfied: Send2Trash in /usr/local/lib/python3.7/dist-packages (from notebook>=4.4.1->widgetsnbextension~=3.5.0->ipywidgets>=7.0.0->swifter) (1.8.0)\n",
            "Requirement already satisfied: nbconvert in /usr/local/lib/python3.7/dist-packages (from notebook>=4.4.1->widgetsnbextension~=3.5.0->ipywidgets>=7.0.0->swifter) (5.6.1)\n",
            "Requirement already satisfied: pyzmq>=13 in /usr/local/lib/python3.7/dist-packages (from jupyter-client->ipykernel>=4.5.1->ipywidgets>=7.0.0->swifter) (22.3.0)\n",
            "Requirement already satisfied: ptyprocess in /usr/local/lib/python3.7/dist-packages (from terminado>=0.8.1->notebook>=4.4.1->widgetsnbextension~=3.5.0->ipywidgets>=7.0.0->swifter) (0.7.0)\n",
            "Requirement already satisfied: MarkupSafe>=0.23 in /usr/local/lib/python3.7/dist-packages (from jinja2->notebook>=4.4.1->widgetsnbextension~=3.5.0->ipywidgets>=7.0.0->swifter) (2.0.1)\n",
            "Requirement already satisfied: pandocfilters>=1.4.1 in /usr/local/lib/python3.7/dist-packages (from nbconvert->notebook>=4.4.1->widgetsnbextension~=3.5.0->ipywidgets>=7.0.0->swifter) (1.5.0)\n",
            "Requirement already satisfied: testpath in /usr/local/lib/python3.7/dist-packages (from nbconvert->notebook>=4.4.1->widgetsnbextension~=3.5.0->ipywidgets>=7.0.0->swifter) (0.5.0)\n",
            "Requirement already satisfied: entrypoints>=0.2.2 in /usr/local/lib/python3.7/dist-packages (from nbconvert->notebook>=4.4.1->widgetsnbextension~=3.5.0->ipywidgets>=7.0.0->swifter) (0.4)\n",
            "Requirement already satisfied: defusedxml in /usr/local/lib/python3.7/dist-packages (from nbconvert->notebook>=4.4.1->widgetsnbextension~=3.5.0->ipywidgets>=7.0.0->swifter) (0.7.1)\n",
            "Requirement already satisfied: mistune<2,>=0.8.1 in /usr/local/lib/python3.7/dist-packages (from nbconvert->notebook>=4.4.1->widgetsnbextension~=3.5.0->ipywidgets>=7.0.0->swifter) (0.8.4)\n",
            "Requirement already satisfied: pyparsing!=3.0.5,>=2.0.2 in /usr/local/lib/python3.7/dist-packages (from packaging->bleach>=3.1.1->swifter) (3.0.7)\n",
            "Requirement already satisfied: chardet<4,>=3.0.2 in /usr/local/lib/python3.7/dist-packages (from requests->language-tool-python) (3.0.4)\n",
            "Requirement already satisfied: certifi>=2017.4.17 in /usr/local/lib/python3.7/dist-packages (from requests->language-tool-python) (2021.10.8)\n",
            "Requirement already satisfied: idna<3,>=2.5 in /usr/local/lib/python3.7/dist-packages (from requests->language-tool-python) (2.10)\n",
            "Requirement already satisfied: urllib3!=1.25.0,!=1.25.1,<1.26,>=1.21.1 in /usr/local/lib/python3.7/dist-packages (from requests->language-tool-python) (1.24.3)\n",
            "Building wheels for collected packages: autocorrect, swifter\n",
            "  Building wheel for autocorrect (setup.py) ... \u001b[?25l\u001b[?25hdone\n",
            "  Created wheel for autocorrect: filename=autocorrect-2.6.1-py3-none-any.whl size=622382 sha256=31af57de537c285f78771e2b91a2c70adf77620e8d655bab0907bef5927165d5\n",
            "  Stored in directory: /root/.cache/pip/wheels/54/d4/37/8244101ad50b0f7d9bffd93ce58ed7991ee1753b290923934b\n",
            "  Building wheel for swifter (setup.py) ... \u001b[?25l\u001b[?25hdone\n",
            "  Created wheel for swifter: filename=swifter-1.1.2-py3-none-any.whl size=13210 sha256=32eae908e6574ee4c2188e3cc9ebfc50aac36e2b1a055c8d11902f546668cca5\n",
            "  Stored in directory: /root/.cache/pip/wheels/79/7d/d1/9c1daa3e18ead25b4b641491851977b382f4b392a9a32ffc38\n",
            "Successfully built autocorrect swifter\n",
            "Installing collected packages: locket, pyahocorasick, partd, fsspec, anyascii, textsearch, psutil, swifter, language-tool-python, contractions, autocorrect\n",
            "  Attempting uninstall: psutil\n",
            "    Found existing installation: psutil 5.4.8\n",
            "    Uninstalling psutil-5.4.8:\n",
            "      Successfully uninstalled psutil-5.4.8\n",
            "Successfully installed anyascii-0.3.0 autocorrect-2.6.1 contractions-0.1.66 fsspec-2022.2.0 language-tool-python-2.7.0 locket-0.2.1 partd-1.2.0 psutil-5.9.0 pyahocorasick-1.4.4 swifter-1.1.2 textsearch-0.0.21\n"
          ]
        },
        {
          "output_type": "display_data",
          "data": {
            "application/vnd.colab-display-data+json": {
              "pip_warning": {
                "packages": [
                  "psutil"
                ]
              }
            }
          },
          "metadata": {}
        }
      ]
    },
    {
      "cell_type": "code",
      "source": [
        "import pandas as pd\n",
        "import swifter\n",
        "import numpy as np\n",
        "import contractions\n",
        "from sklearn.model_selection import train_test_split\n",
        "from bs4 import BeautifulSoup\n",
        "from autocorrect import Speller\n",
        "import language_tool_python\n",
        "import re\n",
        "from wordcloud import WordCloud\n",
        "import nltk\n",
        "from nltk.tokenize import word_tokenize\n",
        "import random\n",
        "random.seed(0)\n",
        "nltk.download('punkt')\n",
        "\n",
        "spell = Speller(lang='en')\n",
        "tool = language_tool_python.LanguageTool('en-US')  "
      ],
      "metadata": {
        "id": "f7nLbnkYuf4P",
        "colab": {
          "base_uri": "https://localhost:8080/"
        },
        "outputId": "17e87632-2dd0-4bdd-e4ff-9fe664183b9f"
      },
      "execution_count": null,
      "outputs": [
        {
          "output_type": "stream",
          "name": "stdout",
          "text": [
            "[nltk_data] Downloading package punkt to /root/nltk_data...\n",
            "[nltk_data]   Unzipping tokenizers/punkt.zip.\n"
          ]
        },
        {
          "output_type": "stream",
          "name": "stderr",
          "text": [
            "Downloading LanguageTool 5.6: 100%|██████████| 220M/220M [00:09<00:00, 22.9MB/s]\n",
            "Unzipping /tmp/tmpfqhnrm2e.zip to /root/.cache/language_tool_python.\n",
            "Downloaded https://www.languagetool.org/download/LanguageTool-5.6.zip to /root/.cache/language_tool_python.\n"
          ]
        }
      ]
    },
    {
      "cell_type": "code",
      "execution_count": null,
      "metadata": {
        "id": "OQJAfEk4iLK4",
        "colab": {
          "base_uri": "https://localhost:8080/"
        },
        "outputId": "738179b4-c2ee-417f-82c8-91ec26468a9c"
      },
      "outputs": [
        {
          "output_type": "stream",
          "name": "stdout",
          "text": [
            "  % Total    % Received % Xferd  Average Speed   Time    Time     Time  Current\n",
            "                                 Dload  Upload   Total   Spent    Left  Speed\n",
            "100 55.4M  100 55.4M    0     0  91.4M      0 --:--:-- --:--:-- --:--:-- 91.4M\n"
          ]
        }
      ],
      "source": [
        "# download the quora dataset\n",
        "!curl http://qim.fs.quoracdn.net/quora_duplicate_questions.tsv > quora_duplicate_questions.tsv"
      ]
    },
    {
      "cell_type": "code",
      "source": [
        "filename = \"quora_duplicate_questions.tsv\"\n",
        "question_pairs_df = pd.read_csv(filename, sep='\\t')\n",
        "question_pairs_df.head(5)"
      ],
      "metadata": {
        "colab": {
          "base_uri": "https://localhost:8080/",
          "height": 206
        },
        "id": "DZrxVTgkudVi",
        "outputId": "303257ff-f13a-4f8b-f194-51c0eb7687f6"
      },
      "execution_count": null,
      "outputs": [
        {
          "output_type": "execute_result",
          "data": {
            "text/html": [
              "\n",
              "  <div id=\"df-e5ce1b98-9cae-4688-995a-37b5860fb898\">\n",
              "    <div class=\"colab-df-container\">\n",
              "      <div>\n",
              "<style scoped>\n",
              "    .dataframe tbody tr th:only-of-type {\n",
              "        vertical-align: middle;\n",
              "    }\n",
              "\n",
              "    .dataframe tbody tr th {\n",
              "        vertical-align: top;\n",
              "    }\n",
              "\n",
              "    .dataframe thead th {\n",
              "        text-align: right;\n",
              "    }\n",
              "</style>\n",
              "<table border=\"1\" class=\"dataframe\">\n",
              "  <thead>\n",
              "    <tr style=\"text-align: right;\">\n",
              "      <th></th>\n",
              "      <th>id</th>\n",
              "      <th>qid1</th>\n",
              "      <th>qid2</th>\n",
              "      <th>question1</th>\n",
              "      <th>question2</th>\n",
              "      <th>is_duplicate</th>\n",
              "    </tr>\n",
              "  </thead>\n",
              "  <tbody>\n",
              "    <tr>\n",
              "      <th>0</th>\n",
              "      <td>0</td>\n",
              "      <td>1</td>\n",
              "      <td>2</td>\n",
              "      <td>What is the step by step guide to invest in sh...</td>\n",
              "      <td>What is the step by step guide to invest in sh...</td>\n",
              "      <td>0</td>\n",
              "    </tr>\n",
              "    <tr>\n",
              "      <th>1</th>\n",
              "      <td>1</td>\n",
              "      <td>3</td>\n",
              "      <td>4</td>\n",
              "      <td>What is the story of Kohinoor (Koh-i-Noor) Dia...</td>\n",
              "      <td>What would happen if the Indian government sto...</td>\n",
              "      <td>0</td>\n",
              "    </tr>\n",
              "    <tr>\n",
              "      <th>2</th>\n",
              "      <td>2</td>\n",
              "      <td>5</td>\n",
              "      <td>6</td>\n",
              "      <td>How can I increase the speed of my internet co...</td>\n",
              "      <td>How can Internet speed be increased by hacking...</td>\n",
              "      <td>0</td>\n",
              "    </tr>\n",
              "    <tr>\n",
              "      <th>3</th>\n",
              "      <td>3</td>\n",
              "      <td>7</td>\n",
              "      <td>8</td>\n",
              "      <td>Why am I mentally very lonely? How can I solve...</td>\n",
              "      <td>Find the remainder when [math]23^{24}[/math] i...</td>\n",
              "      <td>0</td>\n",
              "    </tr>\n",
              "    <tr>\n",
              "      <th>4</th>\n",
              "      <td>4</td>\n",
              "      <td>9</td>\n",
              "      <td>10</td>\n",
              "      <td>Which one dissolve in water quikly sugar, salt...</td>\n",
              "      <td>Which fish would survive in salt water?</td>\n",
              "      <td>0</td>\n",
              "    </tr>\n",
              "  </tbody>\n",
              "</table>\n",
              "</div>\n",
              "      <button class=\"colab-df-convert\" onclick=\"convertToInteractive('df-e5ce1b98-9cae-4688-995a-37b5860fb898')\"\n",
              "              title=\"Convert this dataframe to an interactive table.\"\n",
              "              style=\"display:none;\">\n",
              "        \n",
              "  <svg xmlns=\"http://www.w3.org/2000/svg\" height=\"24px\"viewBox=\"0 0 24 24\"\n",
              "       width=\"24px\">\n",
              "    <path d=\"M0 0h24v24H0V0z\" fill=\"none\"/>\n",
              "    <path d=\"M18.56 5.44l.94 2.06.94-2.06 2.06-.94-2.06-.94-.94-2.06-.94 2.06-2.06.94zm-11 1L8.5 8.5l.94-2.06 2.06-.94-2.06-.94L8.5 2.5l-.94 2.06-2.06.94zm10 10l.94 2.06.94-2.06 2.06-.94-2.06-.94-.94-2.06-.94 2.06-2.06.94z\"/><path d=\"M17.41 7.96l-1.37-1.37c-.4-.4-.92-.59-1.43-.59-.52 0-1.04.2-1.43.59L10.3 9.45l-7.72 7.72c-.78.78-.78 2.05 0 2.83L4 21.41c.39.39.9.59 1.41.59.51 0 1.02-.2 1.41-.59l7.78-7.78 2.81-2.81c.8-.78.8-2.07 0-2.86zM5.41 20L4 18.59l7.72-7.72 1.47 1.35L5.41 20z\"/>\n",
              "  </svg>\n",
              "      </button>\n",
              "      \n",
              "  <style>\n",
              "    .colab-df-container {\n",
              "      display:flex;\n",
              "      flex-wrap:wrap;\n",
              "      gap: 12px;\n",
              "    }\n",
              "\n",
              "    .colab-df-convert {\n",
              "      background-color: #E8F0FE;\n",
              "      border: none;\n",
              "      border-radius: 50%;\n",
              "      cursor: pointer;\n",
              "      display: none;\n",
              "      fill: #1967D2;\n",
              "      height: 32px;\n",
              "      padding: 0 0 0 0;\n",
              "      width: 32px;\n",
              "    }\n",
              "\n",
              "    .colab-df-convert:hover {\n",
              "      background-color: #E2EBFA;\n",
              "      box-shadow: 0px 1px 2px rgba(60, 64, 67, 0.3), 0px 1px 3px 1px rgba(60, 64, 67, 0.15);\n",
              "      fill: #174EA6;\n",
              "    }\n",
              "\n",
              "    [theme=dark] .colab-df-convert {\n",
              "      background-color: #3B4455;\n",
              "      fill: #D2E3FC;\n",
              "    }\n",
              "\n",
              "    [theme=dark] .colab-df-convert:hover {\n",
              "      background-color: #434B5C;\n",
              "      box-shadow: 0px 1px 3px 1px rgba(0, 0, 0, 0.15);\n",
              "      filter: drop-shadow(0px 1px 2px rgba(0, 0, 0, 0.3));\n",
              "      fill: #FFFFFF;\n",
              "    }\n",
              "  </style>\n",
              "\n",
              "      <script>\n",
              "        const buttonEl =\n",
              "          document.querySelector('#df-e5ce1b98-9cae-4688-995a-37b5860fb898 button.colab-df-convert');\n",
              "        buttonEl.style.display =\n",
              "          google.colab.kernel.accessAllowed ? 'block' : 'none';\n",
              "\n",
              "        async function convertToInteractive(key) {\n",
              "          const element = document.querySelector('#df-e5ce1b98-9cae-4688-995a-37b5860fb898');\n",
              "          const dataTable =\n",
              "            await google.colab.kernel.invokeFunction('convertToInteractive',\n",
              "                                                     [key], {});\n",
              "          if (!dataTable) return;\n",
              "\n",
              "          const docLinkHtml = 'Like what you see? Visit the ' +\n",
              "            '<a target=\"_blank\" href=https://colab.research.google.com/notebooks/data_table.ipynb>data table notebook</a>'\n",
              "            + ' to learn more about interactive tables.';\n",
              "          element.innerHTML = '';\n",
              "          dataTable['output_type'] = 'display_data';\n",
              "          await google.colab.output.renderOutput(dataTable, element);\n",
              "          const docLink = document.createElement('div');\n",
              "          docLink.innerHTML = docLinkHtml;\n",
              "          element.appendChild(docLink);\n",
              "        }\n",
              "      </script>\n",
              "    </div>\n",
              "  </div>\n",
              "  "
            ],
            "text/plain": [
              "   id  qid1  ...                                          question2 is_duplicate\n",
              "0   0     1  ...  What is the step by step guide to invest in sh...            0\n",
              "1   1     3  ...  What would happen if the Indian government sto...            0\n",
              "2   2     5  ...  How can Internet speed be increased by hacking...            0\n",
              "3   3     7  ...  Find the remainder when [math]23^{24}[/math] i...            0\n",
              "4   4     9  ...            Which fish would survive in salt water?            0\n",
              "\n",
              "[5 rows x 6 columns]"
            ]
          },
          "metadata": {},
          "execution_count": 5
        }
      ]
    },
    {
      "cell_type": "markdown",
      "source": [
        "I only need 2 columns which are [question1] and [question2] with [is_duplicate] == 1"
      ],
      "metadata": {
        "id": "_8ybi8mpJkEd"
      }
    },
    {
      "cell_type": "markdown",
      "source": [
        "# Basic Text Data Pre-processing"
      ],
      "metadata": {
        "id": "l3UYW6yYItBU"
      }
    },
    {
      "cell_type": "code",
      "source": [
        "question_pairs_with_duplicates_only_df = question_pairs_df[question_pairs_df[\"is_duplicate\"]==1].copy()\n",
        "question_pairs_with_duplicates_only_df.reset_index(drop=True, inplace=True)\n",
        "question_pairs_with_duplicates_only_df.drop(columns=[\"id\", \"qid1\",\"qid2\",\"is_duplicate\"], inplace=True)\n",
        "question_pairs_with_duplicates_only_df.rename(columns={'question1': 'input_sentence', 'question2': 'paraphrased_sentence'}, inplace=True)"
      ],
      "metadata": {
        "id": "pHqIlxIMJE0L"
      },
      "execution_count": null,
      "outputs": []
    },
    {
      "cell_type": "code",
      "source": [
        "question_pairs_with_duplicates_only_df.info()"
      ],
      "metadata": {
        "colab": {
          "base_uri": "https://localhost:8080/"
        },
        "id": "wNn7iJ3m369I",
        "outputId": "f5c17c95-bdde-4e00-8b4c-f18e659b7258"
      },
      "execution_count": null,
      "outputs": [
        {
          "output_type": "stream",
          "name": "stdout",
          "text": [
            "<class 'pandas.core.frame.DataFrame'>\n",
            "RangeIndex: 149263 entries, 0 to 149262\n",
            "Data columns (total 2 columns):\n",
            " #   Column                Non-Null Count   Dtype \n",
            "---  ------                --------------   ----- \n",
            " 0   input_sentence        149263 non-null  object\n",
            " 1   paraphrased_sentence  149263 non-null  object\n",
            "dtypes: object(2)\n",
            "memory usage: 2.3+ MB\n"
          ]
        }
      ]
    },
    {
      "cell_type": "markdown",
      "source": [
        "The number of examples in the dataset is 149263. \\\n",
        "There is no null value in both of the columns."
      ],
      "metadata": {
        "id": "vBD8gJ9aI3oE"
      }
    },
    {
      "cell_type": "markdown",
      "source": [
        "# Data Cleaning"
      ],
      "metadata": {
        "id": "pju8mZtawQGe"
      }
    },
    {
      "cell_type": "code",
      "source": [
        "question_pairs_with_duplicates_only_df.head(10)"
      ],
      "metadata": {
        "id": "osRz0F6rQWS6",
        "colab": {
          "base_uri": "https://localhost:8080/",
          "height": 363
        },
        "outputId": "9fbeea46-2650-4e9a-e68d-88e7a36f935a"
      },
      "execution_count": null,
      "outputs": [
        {
          "output_type": "execute_result",
          "data": {
            "text/html": [
              "\n",
              "  <div id=\"df-07e611b0-eec3-4bce-b803-537f2cf7744a\">\n",
              "    <div class=\"colab-df-container\">\n",
              "      <div>\n",
              "<style scoped>\n",
              "    .dataframe tbody tr th:only-of-type {\n",
              "        vertical-align: middle;\n",
              "    }\n",
              "\n",
              "    .dataframe tbody tr th {\n",
              "        vertical-align: top;\n",
              "    }\n",
              "\n",
              "    .dataframe thead th {\n",
              "        text-align: right;\n",
              "    }\n",
              "</style>\n",
              "<table border=\"1\" class=\"dataframe\">\n",
              "  <thead>\n",
              "    <tr style=\"text-align: right;\">\n",
              "      <th></th>\n",
              "      <th>input_sentence</th>\n",
              "      <th>paraphrased_sentence</th>\n",
              "    </tr>\n",
              "  </thead>\n",
              "  <tbody>\n",
              "    <tr>\n",
              "      <th>0</th>\n",
              "      <td>Astrology: I am a Capricorn Sun Cap moon and c...</td>\n",
              "      <td>I'm a triple Capricorn (Sun, Moon and ascendan...</td>\n",
              "    </tr>\n",
              "    <tr>\n",
              "      <th>1</th>\n",
              "      <td>How can I be a good geologist?</td>\n",
              "      <td>What should I do to be a great geologist?</td>\n",
              "    </tr>\n",
              "    <tr>\n",
              "      <th>2</th>\n",
              "      <td>How do I read and find my YouTube comments?</td>\n",
              "      <td>How can I see all my Youtube comments?</td>\n",
              "    </tr>\n",
              "    <tr>\n",
              "      <th>3</th>\n",
              "      <td>What can make Physics easy to learn?</td>\n",
              "      <td>How can you make physics easy to learn?</td>\n",
              "    </tr>\n",
              "    <tr>\n",
              "      <th>4</th>\n",
              "      <td>What was your first sexual experience like?</td>\n",
              "      <td>What was your first sexual experience?</td>\n",
              "    </tr>\n",
              "    <tr>\n",
              "      <th>5</th>\n",
              "      <td>What would a Trump presidency mean for current...</td>\n",
              "      <td>How will a Trump presidency affect the student...</td>\n",
              "    </tr>\n",
              "    <tr>\n",
              "      <th>6</th>\n",
              "      <td>What does manipulation mean?</td>\n",
              "      <td>What does manipulation means?</td>\n",
              "    </tr>\n",
              "    <tr>\n",
              "      <th>7</th>\n",
              "      <td>Why are so many Quora users posting questions ...</td>\n",
              "      <td>Why do people ask Quora questions which can be...</td>\n",
              "    </tr>\n",
              "    <tr>\n",
              "      <th>8</th>\n",
              "      <td>Why do rockets look white?</td>\n",
              "      <td>Why are rockets and boosters painted white?</td>\n",
              "    </tr>\n",
              "    <tr>\n",
              "      <th>9</th>\n",
              "      <td>How should I prepare for CA final law?</td>\n",
              "      <td>How one should know that he/she completely pre...</td>\n",
              "    </tr>\n",
              "  </tbody>\n",
              "</table>\n",
              "</div>\n",
              "      <button class=\"colab-df-convert\" onclick=\"convertToInteractive('df-07e611b0-eec3-4bce-b803-537f2cf7744a')\"\n",
              "              title=\"Convert this dataframe to an interactive table.\"\n",
              "              style=\"display:none;\">\n",
              "        \n",
              "  <svg xmlns=\"http://www.w3.org/2000/svg\" height=\"24px\"viewBox=\"0 0 24 24\"\n",
              "       width=\"24px\">\n",
              "    <path d=\"M0 0h24v24H0V0z\" fill=\"none\"/>\n",
              "    <path d=\"M18.56 5.44l.94 2.06.94-2.06 2.06-.94-2.06-.94-.94-2.06-.94 2.06-2.06.94zm-11 1L8.5 8.5l.94-2.06 2.06-.94-2.06-.94L8.5 2.5l-.94 2.06-2.06.94zm10 10l.94 2.06.94-2.06 2.06-.94-2.06-.94-.94-2.06-.94 2.06-2.06.94z\"/><path d=\"M17.41 7.96l-1.37-1.37c-.4-.4-.92-.59-1.43-.59-.52 0-1.04.2-1.43.59L10.3 9.45l-7.72 7.72c-.78.78-.78 2.05 0 2.83L4 21.41c.39.39.9.59 1.41.59.51 0 1.02-.2 1.41-.59l7.78-7.78 2.81-2.81c.8-.78.8-2.07 0-2.86zM5.41 20L4 18.59l7.72-7.72 1.47 1.35L5.41 20z\"/>\n",
              "  </svg>\n",
              "      </button>\n",
              "      \n",
              "  <style>\n",
              "    .colab-df-container {\n",
              "      display:flex;\n",
              "      flex-wrap:wrap;\n",
              "      gap: 12px;\n",
              "    }\n",
              "\n",
              "    .colab-df-convert {\n",
              "      background-color: #E8F0FE;\n",
              "      border: none;\n",
              "      border-radius: 50%;\n",
              "      cursor: pointer;\n",
              "      display: none;\n",
              "      fill: #1967D2;\n",
              "      height: 32px;\n",
              "      padding: 0 0 0 0;\n",
              "      width: 32px;\n",
              "    }\n",
              "\n",
              "    .colab-df-convert:hover {\n",
              "      background-color: #E2EBFA;\n",
              "      box-shadow: 0px 1px 2px rgba(60, 64, 67, 0.3), 0px 1px 3px 1px rgba(60, 64, 67, 0.15);\n",
              "      fill: #174EA6;\n",
              "    }\n",
              "\n",
              "    [theme=dark] .colab-df-convert {\n",
              "      background-color: #3B4455;\n",
              "      fill: #D2E3FC;\n",
              "    }\n",
              "\n",
              "    [theme=dark] .colab-df-convert:hover {\n",
              "      background-color: #434B5C;\n",
              "      box-shadow: 0px 1px 3px 1px rgba(0, 0, 0, 0.15);\n",
              "      filter: drop-shadow(0px 1px 2px rgba(0, 0, 0, 0.3));\n",
              "      fill: #FFFFFF;\n",
              "    }\n",
              "  </style>\n",
              "\n",
              "      <script>\n",
              "        const buttonEl =\n",
              "          document.querySelector('#df-07e611b0-eec3-4bce-b803-537f2cf7744a button.colab-df-convert');\n",
              "        buttonEl.style.display =\n",
              "          google.colab.kernel.accessAllowed ? 'block' : 'none';\n",
              "\n",
              "        async function convertToInteractive(key) {\n",
              "          const element = document.querySelector('#df-07e611b0-eec3-4bce-b803-537f2cf7744a');\n",
              "          const dataTable =\n",
              "            await google.colab.kernel.invokeFunction('convertToInteractive',\n",
              "                                                     [key], {});\n",
              "          if (!dataTable) return;\n",
              "\n",
              "          const docLinkHtml = 'Like what you see? Visit the ' +\n",
              "            '<a target=\"_blank\" href=https://colab.research.google.com/notebooks/data_table.ipynb>data table notebook</a>'\n",
              "            + ' to learn more about interactive tables.';\n",
              "          element.innerHTML = '';\n",
              "          dataTable['output_type'] = 'display_data';\n",
              "          await google.colab.output.renderOutput(dataTable, element);\n",
              "          const docLink = document.createElement('div');\n",
              "          docLink.innerHTML = docLinkHtml;\n",
              "          element.appendChild(docLink);\n",
              "        }\n",
              "      </script>\n",
              "    </div>\n",
              "  </div>\n",
              "  "
            ],
            "text/plain": [
              "                                      input_sentence                               paraphrased_sentence\n",
              "0  Astrology: I am a Capricorn Sun Cap moon and c...  I'm a triple Capricorn (Sun, Moon and ascendan...\n",
              "1                     How can I be a good geologist?          What should I do to be a great geologist?\n",
              "2        How do I read and find my YouTube comments?             How can I see all my Youtube comments?\n",
              "3               What can make Physics easy to learn?            How can you make physics easy to learn?\n",
              "4        What was your first sexual experience like?             What was your first sexual experience?\n",
              "5  What would a Trump presidency mean for current...  How will a Trump presidency affect the student...\n",
              "6                       What does manipulation mean?                      What does manipulation means?\n",
              "7  Why are so many Quora users posting questions ...  Why do people ask Quora questions which can be...\n",
              "8                         Why do rockets look white?        Why are rockets and boosters painted white?\n",
              "9             How should I prepare for CA final law?  How one should know that he/she completely pre..."
            ]
          },
          "metadata": {},
          "execution_count": 8
        }
      ]
    },
    {
      "cell_type": "markdown",
      "source": [
        "index 6: The paraphrased_sentence is grammertically wrong. \\\n",
        "It seems like there are a lot of overlapped words between input and paraphrased sentences"
      ],
      "metadata": {
        "id": "epSAHc76Oo-3"
      }
    },
    {
      "cell_type": "code",
      "source": [
        "# check whether the sentence has [math] tag\n",
        "question_pairs_with_duplicates_only_df[question_pairs_with_duplicates_only_df[\"input_sentence\"].apply(lambda s: \"[math]\" in s)].head(5)"
      ],
      "metadata": {
        "colab": {
          "base_uri": "https://localhost:8080/",
          "height": 206
        },
        "id": "OVZiYqNDQCYW",
        "outputId": "e60a0b76-2af2-478c-c146-e8371b9b1ade"
      },
      "execution_count": null,
      "outputs": [
        {
          "output_type": "execute_result",
          "data": {
            "text/html": [
              "\n",
              "  <div id=\"df-2ccd278b-a18e-4377-ad45-9b5dba4ded02\">\n",
              "    <div class=\"colab-df-container\">\n",
              "      <div>\n",
              "<style scoped>\n",
              "    .dataframe tbody tr th:only-of-type {\n",
              "        vertical-align: middle;\n",
              "    }\n",
              "\n",
              "    .dataframe tbody tr th {\n",
              "        vertical-align: top;\n",
              "    }\n",
              "\n",
              "    .dataframe thead th {\n",
              "        text-align: right;\n",
              "    }\n",
              "</style>\n",
              "<table border=\"1\" class=\"dataframe\">\n",
              "  <thead>\n",
              "    <tr style=\"text-align: right;\">\n",
              "      <th></th>\n",
              "      <th>input_sentence</th>\n",
              "      <th>paraphrased_sentence</th>\n",
              "    </tr>\n",
              "  </thead>\n",
              "  <tbody>\n",
              "    <tr>\n",
              "      <th>8514</th>\n",
              "      <td>How do I learn [math]\\LaTeX[/math]?</td>\n",
              "      <td>How can I learn latex in the easiest way?</td>\n",
              "    </tr>\n",
              "    <tr>\n",
              "      <th>10950</th>\n",
              "      <td>Let [math]S_{n} = n^{2} + 20n + 12[/math], whe...</td>\n",
              "      <td>Given [math]S_n = n^2 +20n + 12[/math]. What w...</td>\n",
              "    </tr>\n",
              "    <tr>\n",
              "      <th>12249</th>\n",
              "      <td>If real numbers are in [math]x[/math]-axis and...</td>\n",
              "      <td>If the real numbers are usually placed on the ...</td>\n",
              "    </tr>\n",
              "    <tr>\n",
              "      <th>27147</th>\n",
              "      <td>How do I solve the problem: [math] A=\\begin{pm...</td>\n",
              "      <td>Given [math]A[/math], What is the general form...</td>\n",
              "    </tr>\n",
              "    <tr>\n",
              "      <th>31400</th>\n",
              "      <td>How can you determine the derivative of [math]...</td>\n",
              "      <td>What is the derivative of [math]\\sin \\left(x^2...</td>\n",
              "    </tr>\n",
              "  </tbody>\n",
              "</table>\n",
              "</div>\n",
              "      <button class=\"colab-df-convert\" onclick=\"convertToInteractive('df-2ccd278b-a18e-4377-ad45-9b5dba4ded02')\"\n",
              "              title=\"Convert this dataframe to an interactive table.\"\n",
              "              style=\"display:none;\">\n",
              "        \n",
              "  <svg xmlns=\"http://www.w3.org/2000/svg\" height=\"24px\"viewBox=\"0 0 24 24\"\n",
              "       width=\"24px\">\n",
              "    <path d=\"M0 0h24v24H0V0z\" fill=\"none\"/>\n",
              "    <path d=\"M18.56 5.44l.94 2.06.94-2.06 2.06-.94-2.06-.94-.94-2.06-.94 2.06-2.06.94zm-11 1L8.5 8.5l.94-2.06 2.06-.94-2.06-.94L8.5 2.5l-.94 2.06-2.06.94zm10 10l.94 2.06.94-2.06 2.06-.94-2.06-.94-.94-2.06-.94 2.06-2.06.94z\"/><path d=\"M17.41 7.96l-1.37-1.37c-.4-.4-.92-.59-1.43-.59-.52 0-1.04.2-1.43.59L10.3 9.45l-7.72 7.72c-.78.78-.78 2.05 0 2.83L4 21.41c.39.39.9.59 1.41.59.51 0 1.02-.2 1.41-.59l7.78-7.78 2.81-2.81c.8-.78.8-2.07 0-2.86zM5.41 20L4 18.59l7.72-7.72 1.47 1.35L5.41 20z\"/>\n",
              "  </svg>\n",
              "      </button>\n",
              "      \n",
              "  <style>\n",
              "    .colab-df-container {\n",
              "      display:flex;\n",
              "      flex-wrap:wrap;\n",
              "      gap: 12px;\n",
              "    }\n",
              "\n",
              "    .colab-df-convert {\n",
              "      background-color: #E8F0FE;\n",
              "      border: none;\n",
              "      border-radius: 50%;\n",
              "      cursor: pointer;\n",
              "      display: none;\n",
              "      fill: #1967D2;\n",
              "      height: 32px;\n",
              "      padding: 0 0 0 0;\n",
              "      width: 32px;\n",
              "    }\n",
              "\n",
              "    .colab-df-convert:hover {\n",
              "      background-color: #E2EBFA;\n",
              "      box-shadow: 0px 1px 2px rgba(60, 64, 67, 0.3), 0px 1px 3px 1px rgba(60, 64, 67, 0.15);\n",
              "      fill: #174EA6;\n",
              "    }\n",
              "\n",
              "    [theme=dark] .colab-df-convert {\n",
              "      background-color: #3B4455;\n",
              "      fill: #D2E3FC;\n",
              "    }\n",
              "\n",
              "    [theme=dark] .colab-df-convert:hover {\n",
              "      background-color: #434B5C;\n",
              "      box-shadow: 0px 1px 3px 1px rgba(0, 0, 0, 0.15);\n",
              "      filter: drop-shadow(0px 1px 2px rgba(0, 0, 0, 0.3));\n",
              "      fill: #FFFFFF;\n",
              "    }\n",
              "  </style>\n",
              "\n",
              "      <script>\n",
              "        const buttonEl =\n",
              "          document.querySelector('#df-2ccd278b-a18e-4377-ad45-9b5dba4ded02 button.colab-df-convert');\n",
              "        buttonEl.style.display =\n",
              "          google.colab.kernel.accessAllowed ? 'block' : 'none';\n",
              "\n",
              "        async function convertToInteractive(key) {\n",
              "          const element = document.querySelector('#df-2ccd278b-a18e-4377-ad45-9b5dba4ded02');\n",
              "          const dataTable =\n",
              "            await google.colab.kernel.invokeFunction('convertToInteractive',\n",
              "                                                     [key], {});\n",
              "          if (!dataTable) return;\n",
              "\n",
              "          const docLinkHtml = 'Like what you see? Visit the ' +\n",
              "            '<a target=\"_blank\" href=https://colab.research.google.com/notebooks/data_table.ipynb>data table notebook</a>'\n",
              "            + ' to learn more about interactive tables.';\n",
              "          element.innerHTML = '';\n",
              "          dataTable['output_type'] = 'display_data';\n",
              "          await google.colab.output.renderOutput(dataTable, element);\n",
              "          const docLink = document.createElement('div');\n",
              "          docLink.innerHTML = docLinkHtml;\n",
              "          element.appendChild(docLink);\n",
              "        }\n",
              "      </script>\n",
              "    </div>\n",
              "  </div>\n",
              "  "
            ],
            "text/plain": [
              "                                          input_sentence                               paraphrased_sentence\n",
              "8514                 How do I learn [math]\\LaTeX[/math]?          How can I learn latex in the easiest way?\n",
              "10950  Let [math]S_{n} = n^{2} + 20n + 12[/math], whe...  Given [math]S_n = n^2 +20n + 12[/math]. What w...\n",
              "12249  If real numbers are in [math]x[/math]-axis and...  If the real numbers are usually placed on the ...\n",
              "27147  How do I solve the problem: [math] A=\\begin{pm...  Given [math]A[/math], What is the general form...\n",
              "31400  How can you determine the derivative of [math]...  What is the derivative of [math]\\sin \\left(x^2..."
            ]
          },
          "metadata": {},
          "execution_count": 9
        }
      ]
    },
    {
      "cell_type": "markdown",
      "source": [
        "Without [math] tag in the sentence above, the sentence will have ambiguity such as in index 27147, \"[math]A[math]\" will be changed to \"Given A,...\" which doesnt make sense so I decided to not remove it."
      ],
      "metadata": {
        "id": "HxP7qZb_GydX"
      }
    },
    {
      "cell_type": "code",
      "source": [
        "def data_cleaning(example):\n",
        "  example = example.encode('ascii','ignore').decode(encoding='UTF-8') # decode from ascii to UTF-8\n",
        "  example = example.strip() # remove leading/trailing space\n",
        "  example = re.sub(' +', ' ', example) # remove extra space\n",
        "  example = contractions.fix(example) # expand contractions \n",
        "  example = spell(example) # spelling correction\n",
        "  example = tool.correct(example) # grammer correction\n",
        "  return example\n",
        "\n",
        "cleaned_df = question_pairs_with_duplicates_only_df.swifter.applymap(data_cleaning) # swifter to speed up the operation\n",
        "# delete duplicates if input_sentence is the same as paraphrased senetence\n",
        "cleaned_df = cleaned_df[cleaned_df[\"input_sentence\"] != cleaned_df[\"paraphrased_sentence\"]].copy()\n",
        "print(\"Number of dataset: \", cleaned_df.shape[0])\n",
        "cleaned_df.to_csv(PROJECT_FOLDER+\"/data/cleaned/cleaned_quora_dataset.csv\", index = False)"
      ],
      "metadata": {
        "id": "4San2e9aKLHE"
      },
      "execution_count": null,
      "outputs": []
    },
    {
      "cell_type": "markdown",
      "source": [
        "Previous: 149263 \\\n",
        "Now: 148343 \\\n",
        "Proably, those discarded sentences did not really get paraphrased probably at all or the paraphrased sentences is gramatically wrong or spelling incorrect."
      ],
      "metadata": {
        "id": "aobT5RIo6QLp"
      }
    },
    {
      "cell_type": "code",
      "source": [
        "# cluster data by intent\n",
        "dataset_df = pd.read_csv(PROJECT_FOLDER+\"/data/cleaned/cleaned_quora_dataset.csv\")\n",
        "sentence2cluster = {}\n",
        "clusters = []\n",
        "duplicates_idxs = []\n",
        "for index, row in dataset_df.iterrows():\n",
        "  # in the case where same intent have 2 different clusters, merge these clusters as one\n",
        "  if row[\"input_sentence\"] in sentence2cluster and row[\"paraphrased_sentence\"] in sentence2cluster:\n",
        "    if sentence2cluster[row[\"input_sentence\"]] != sentence2cluster[row[\"paraphrased_sentence\"]]:\n",
        "      clusters[sentence2cluster[row[\"input_sentence\"]]] = set.union(clusters[sentence2cluster[row[\"input_sentence\"]]], clusters[sentence2cluster[row[\"paraphrased_sentence\"]]])\n",
        "      duplicates_idxs.append(sentence2cluster[row[\"paraphrased_sentence\"]])\n",
        "      for sentence in clusters[sentence2cluster[row[\"paraphrased_sentence\"]]]:\n",
        "        sentence2cluster[sentence] = sentence2cluster[row[\"input_sentence\"]]\n",
        "      sentence2cluster[row[\"paraphrased_sentence\"]] = sentence2cluster[row[\"input_sentence\"]]\n",
        "  elif row[\"input_sentence\"] in sentence2cluster:\n",
        "    clusters[sentence2cluster[row[\"input_sentence\"]]].add(row[\"paraphrased_sentence\"])\n",
        "    sentence2cluster[row[\"paraphrased_sentence\"]] = sentence2cluster[row[\"input_sentence\"]]\n",
        "  elif row[\"paraphrased_sentence\"] in sentence2cluster:\n",
        "    clusters[sentence2cluster[row[\"paraphrased_sentence\"]]].add(row[\"input_sentence\"])\n",
        "    sentence2cluster[row[\"input_sentence\"]] = sentence2cluster[row[\"paraphrased_sentence\"]]\n",
        "  else:\n",
        "    clusters.append({row[\"input_sentence\"], row[\"paraphrased_sentence\"]})\n",
        "    sentence2cluster[row[\"input_sentence\"]] = sentence2cluster[row[\"paraphrased_sentence\"]] = len(clusters) - 1\n",
        "\n",
        "unique_clusters = []\n",
        "for i in range(len(clusters)):\n",
        "  if i not in duplicates_idxs:\n",
        "    unique_clusters.append(clusters[i])\n",
        "\n",
        "clusters = unique_clusters"
      ],
      "metadata": {
        "id": "mB1tSGRnYpGH"
      },
      "execution_count": null,
      "outputs": []
    },
    {
      "cell_type": "markdown",
      "source": [
        "# Prepare train and test dataset"
      ],
      "metadata": {
        "id": "i2x9qBbS5qJm"
      }
    },
    {
      "cell_type": "code",
      "source": [
        "print(\"Total size of unique intents:\", len(clusters))\n",
        "\n",
        "random.shuffle(clusters)\n",
        "train_size = int(len(clusters) * 0.8)\n",
        "val_size = int(train_size + len(clusters) * 0.1)\n",
        "\n",
        "train_clusters = clusters[:train_size]\n",
        "val_clusters = clusters[train_size:val_size]\n",
        "test_clusters = clusters[val_size:]\n",
        "\n",
        "# create training dataset\n",
        "train_input_sentences = []\n",
        "train_paraphrased_sentences = []\n",
        "for train_cluster in train_clusters:\n",
        "  for input_sentence in train_cluster:\n",
        "    for paraphrased_sentence in train_cluster:\n",
        "      if input_sentence != paraphrased_sentence:\n",
        "        train_input_sentences.append(input_sentence)\n",
        "        train_paraphrased_sentences.append(paraphrased_sentence)\n",
        "train_df = pd.DataFrame({\"input_sentence\": train_input_sentences, \"paraphrased_sentences\": train_paraphrased_sentences})\n",
        "\n",
        "# create validation dataset\n",
        "val_input_sentences = []\n",
        "val_paraphrased_sentences = []\n",
        "for val_cluster in val_clusters:\n",
        "  input_sentence = random.choice(list(val_cluster))\n",
        "  val_cluster.remove(input_sentence)\n",
        "  val_input_sentences.append(input_sentence)\n",
        "  val_paraphrased_sentences.append(list(val_cluster))\n",
        "val_df = pd.DataFrame({\"input_sentence\": val_input_sentences, \"paraphrased_sentences\": val_paraphrased_sentences})\n",
        "\n",
        "# create test dataset\n",
        "test_input_sentences = []\n",
        "test_paraphrased_sentences = []\n",
        "for test_cluster in test_clusters:\n",
        "  input_sentence = random.choice(list(test_cluster))\n",
        "  test_cluster.remove(input_sentence)\n",
        "  test_input_sentences.append(input_sentence)\n",
        "  test_paraphrased_sentences.append(list(test_cluster))\n",
        "test_df = pd.DataFrame({\"input_sentence\": test_input_sentences, \"paraphrased_sentences\": test_paraphrased_sentences})\n",
        "\n",
        "# save the train, validation, test dataset\n",
        "print(\"Number of examples (Train): \", train_df.shape[0])\n",
        "print(\"Number of examples (Validation): \", val_df.shape[0])\n",
        "print(\"Number of examples (Test): \", test_df.shape[0])\n",
        "train_df.to_csv(PROJECT_FOLDER+\"/data/cleaned/cleaned_quora_dataset_train.csv\", index = False)\n",
        "val_df.to_csv(PROJECT_FOLDER+\"/data/cleaned/cleaned_quora_dataset_val.csv\", index = False)\n",
        "test_df.to_csv(PROJECT_FOLDER+\"/data/cleaned/cleaned_quora_dataset_test.csv\", index = False)"
      ],
      "metadata": {
        "colab": {
          "base_uri": "https://localhost:8080/"
        },
        "id": "OHsWO0_aAqqr",
        "outputId": "8aca75e3-b999-4e4c-f1ed-9133fff94425"
      },
      "execution_count": null,
      "outputs": [
        {
          "output_type": "stream",
          "name": "stdout",
          "text": [
            "Total size of unique intents: 59700\n",
            "Number of examples (Train):  348008\n",
            "Number of examples (Validation):  5970\n",
            "Number of examples (Test):  5970\n"
          ]
        }
      ]
    },
    {
      "cell_type": "markdown",
      "source": [
        "# Data Exploration"
      ],
      "metadata": {
        "id": "9jll6gImwg88"
      }
    },
    {
      "cell_type": "code",
      "source": [
        "# only analyse training set to avoid data leakage from val and test set\n",
        "train_df = pd.read_csv(PROJECT_FOLDER+\"/data/cleaned/cleaned_quora_dataset_train.csv\")\n",
        "train_df.info()"
      ],
      "metadata": {
        "colab": {
          "base_uri": "https://localhost:8080/"
        },
        "id": "JkQ65hQ6xKTc",
        "outputId": "70a66fc7-fdfa-4821-c1dc-a5715e3be7bc"
      },
      "execution_count": null,
      "outputs": [
        {
          "output_type": "stream",
          "name": "stdout",
          "text": [
            "<class 'pandas.core.frame.DataFrame'>\n",
            "RangeIndex: 348008 entries, 0 to 348007\n",
            "Data columns (total 2 columns):\n",
            " #   Column                 Non-Null Count   Dtype \n",
            "---  ------                 --------------   ----- \n",
            " 0   input_sentence         348008 non-null  object\n",
            " 1   paraphrased_sentences  348008 non-null  object\n",
            "dtypes: object(2)\n",
            "memory usage: 5.3+ MB\n"
          ]
        }
      ]
    },
    {
      "cell_type": "markdown",
      "source": [
        "Since input_sentence have the same sentences as paraphrased_sentences, I will only analyse input_sentence."
      ],
      "metadata": {
        "id": "Yd3VCdE-rCv5"
      }
    },
    {
      "cell_type": "code",
      "source": [
        "# normalized histogram of the frequency of sentences appear \n",
        "temp_df = train_df.reset_index()\n",
        "temp_df = train_df[\"input_sentence\"].value_counts()\n",
        "# check the most frequent sentence\n",
        "print(\"The most frequent sentence has\", max(temp_df), \"examples\")\n",
        "temp_df.plot.hist(title=\"Normalized histogram of the frequency of sentences appear \",bins=max(temp_df), density=True)"
      ],
      "metadata": {
        "colab": {
          "base_uri": "https://localhost:8080/",
          "height": 316
        },
        "id": "wEbxVwWt7NEx",
        "outputId": "9ffb520c-0290-4f55-a328-4cab3cc402c1"
      },
      "execution_count": null,
      "outputs": [
        {
          "output_type": "stream",
          "name": "stdout",
          "text": [
            "The most frequent sentence has 96 examples\n"
          ]
        },
        {
          "output_type": "execute_result",
          "data": {
            "text/plain": [
              "<matplotlib.axes._subplots.AxesSubplot at 0x7f4581d14b10>"
            ]
          },
          "metadata": {},
          "execution_count": 14
        },
        {
          "output_type": "display_data",
          "data": {
            "image/png": "[encoded data removed]",
            "text/plain": [
              "<Figure size 432x288 with 1 Axes>"
            ]
          },
          "metadata": {
            "needs_background": "light"
          }
        }
      ]
    },
    {
      "cell_type": "markdown",
      "source": [
        "Most of the sentences appear only once "
      ],
      "metadata": {
        "id": "NqeR5q4JigkO"
      }
    },
    {
      "cell_type": "code",
      "source": [
        "# normalized histogram of the number of words in each questions\n",
        "# split the sentences into words\n",
        "train_df[\"input_words\"] = train_df[\"input_sentence\"].apply(word_tokenize)\n",
        "train_df[\"input_words_length\"] = train_df[\"input_words\"].apply(lambda s: len(s))\n",
        "# check the longest length of the sentence\n",
        "print(\"The longest length of sentence:\", max(train_df[\"input_words_length\"]), \"words\")\n",
        "train_df[\"input_words_length\"].plot.hist(title=\"Normalized histogram of the number of words in each questions \",bins=max(train_df[\"input_words_length\"]), density=True)"
      ],
      "metadata": {
        "colab": {
          "base_uri": "https://localhost:8080/",
          "height": 316
        },
        "id": "tnKUrs_5i4wW",
        "outputId": "58573c9c-7ffd-4fab-add6-99aadfc193a2"
      },
      "execution_count": null,
      "outputs": [
        {
          "output_type": "stream",
          "name": "stdout",
          "text": [
            "The longest length of sentence: 90 words\n"
          ]
        },
        {
          "output_type": "execute_result",
          "data": {
            "text/plain": [
              "<matplotlib.axes._subplots.AxesSubplot at 0x7f4581b02950>"
            ]
          },
          "metadata": {},
          "execution_count": 15
        },
        {
          "output_type": "display_data",
          "data": {
            "image/png": "[encoded data removed]",
            "text/plain": [
              "<Figure size 432x288 with 1 Axes>"
            ]
          },
          "metadata": {
            "needs_background": "light"
          }
        }
      ]
    },
    {
      "cell_type": "markdown",
      "source": [
        "Most of sentences has around 10 words on average"
      ],
      "metadata": {
        "id": "rrNgnPSvlQ63"
      }
    },
    {
      "cell_type": "code",
      "source": [
        "# Generate a word cloud image to check the most common word\n",
        "wordcloud = WordCloud(width=700, height=300).generate(str(train_df[\"input_sentence\"].values))\n",
        "wordcloud.to_image()"
      ],
      "metadata": {
        "colab": {
          "base_uri": "https://localhost:8080/",
          "height": 317
        },
        "id": "eVfLEPDxlz7W",
        "outputId": "075e3c05-defe-40b1-a475-71df3412bd22"
      },
      "execution_count": null,
      "outputs": [
        {
          "output_type": "execute_result",
          "data": {
            "image/png": "[encoded data removed]",
            "text/plain": [
              "<PIL.Image.Image image mode=RGB size=700x300 at 0x7F458F4DC1D0>"
            ]
          },
          "metadata": {},
          "execution_count": 16
        }
      ]
    },
    {
      "cell_type": "code",
      "source": [
        "# normalized histogram of shared word between question1 and question2\n",
        "# split the sentences into words\n",
        "train_df[\"paraphrased_words\"] = train_df[\"paraphrased_sentences\"].apply(word_tokenize)\n",
        "temp_df = pd.DataFrame()\n",
        "temp_df[\"input_words\"] = train_df[\"input_words\"].apply(set)\n",
        "temp_df[\"paraphrased_words\"] = train_df[\"paraphrased_words\"].apply(set)\n",
        "temp_df[\"input_words_length\"] = temp_df[\"input_words\"].apply(lambda s: len(s))\n",
        "temp_df[\"paraphrased_words_length\"] = temp_df[\"paraphrased_words\"].apply(lambda s: len(s))\n",
        "temp_df[\"shared_words\"] = temp_df[\"input_words\"] - (temp_df[\"input_words\"] - temp_df[\"paraphrased_words\"])\n",
        "temp_df[\"num_of_shared_words\"] = temp_df[\"shared_words\"].apply(lambda s: len(s))\n",
        "temp_df[\"norm_num_of_shared_words\"] = temp_df[\"num_of_shared_words\"] *100/ temp_df[[\"input_words_length\",\"paraphrased_words_length\"]].max(axis=1)\n",
        "temp_df[\"norm_num_of_shared_words\"].plot.hist(title=\"Normalized histogram of the number of shared words between the original sentence and parahrased sentence\",\n",
        "                                              bins=10, density=True)"
      ],
      "metadata": {
        "colab": {
          "base_uri": "https://localhost:8080/",
          "height": 298
        },
        "id": "bsd5myCJp8RW",
        "outputId": "5597e8f0-ece3-4cf9-ad39-5923ec58a5c7"
      },
      "execution_count": null,
      "outputs": [
        {
          "output_type": "execute_result",
          "data": {
            "text/plain": [
              "<matplotlib.axes._subplots.AxesSubplot at 0x7f4530e32350>"
            ]
          },
          "metadata": {},
          "execution_count": 17
        },
        {
          "output_type": "display_data",
          "data": {
            "image/png": "[encoded data removed]",
            "text/plain": [
              "<Figure size 432x288 with 1 Axes>"
            ]
          },
          "metadata": {
            "needs_background": "light"
          }
        }
      ]
    },
    {
      "cell_type": "markdown",
      "source": [
        "Most of the paraphrased sentences are around 50% similiar with the original sentences. "
      ],
      "metadata": {
        "id": "GJ8KCb8h0KnK"
      }
    },
    {
      "cell_type": "code",
      "source": [
        "# normalized histogram of the difference in length of the input_sentence and paraphrased_sentence\n",
        "train_df[\"diff_in_length\"] = train_df[\"input_words\"].apply(lambda s: len(s)) - train_df[\"paraphrased_words\"].apply(lambda s: len(s))\n",
        "train_df[\"diff_in_length\"].plot.hist(title=\"Normalized histogram of the difference in length of the input_sentence and paraphrased_sentence\", \n",
        "                                     bins=max(train_df[\"diff_in_length\"])-min(train_df[\"diff_in_length\"]),density=True)"
      ],
      "metadata": {
        "colab": {
          "base_uri": "https://localhost:8080/",
          "height": 298
        },
        "id": "ZsWZOghx1ktf",
        "outputId": "adcf25ca-3c65-477d-c65f-ea3514520ce5"
      },
      "execution_count": null,
      "outputs": [
        {
          "output_type": "execute_result",
          "data": {
            "text/plain": [
              "<matplotlib.axes._subplots.AxesSubplot at 0x7f453c1d1e90>"
            ]
          },
          "metadata": {},
          "execution_count": 18
        },
        {
          "output_type": "display_data",
          "data": {
            "image/png": "[encoded data removed]",
            "text/plain": [
              "<Figure size 432x288 with 1 Axes>"
            ]
          },
          "metadata": {
            "needs_background": "light"
          }
        }
      ]
    },
    {
      "cell_type": "markdown",
      "source": [
        "Mostly, both of the sentences do not have much difference in length."
      ],
      "metadata": {
        "id": "qCKsUvHw2_BI"
      }
    },
    {
      "cell_type": "code",
      "source": [
        "qmarks = np.mean(train_df[\"input_sentence\"].apply(lambda x: x.endswith(\"?\")))\n",
        "fullstop = np.mean(train_df[\"input_sentence\"].apply(lambda x: x.endswith(\".\")))\n",
        "numbers = np.mean(train_df[\"input_sentence\"].apply(lambda x: max([y.isdigit() for y in x])))\n",
        "print(\"Total number of unique sentences in the training data:\", round(len(train_df[\"input_sentence\"].unique())*100/train_df[\"input_sentence\"].shape[0],2),\"%\") \n",
        "print(\"Total number of questions in the training data:\", round(qmarks*100,2),\"%\") \n",
        "print(\"Total number of statement sentences in the training data:\", round(fullstop*100,2),\"%\") \n",
        "print(\"Total number of sentences that has digits in the training data:\", round(numbers*100,2),\"%\") "
      ],
      "metadata": {
        "id": "PVC_ugYqv3sX",
        "colab": {
          "base_uri": "https://localhost:8080/"
        },
        "outputId": "20074562-e306-4a89-e080-48f2a2ce9d4b"
      },
      "execution_count": null,
      "outputs": [
        {
          "output_type": "stream",
          "name": "stdout",
          "text": [
            "Total number of unique sentences in the training data: 33.94 %\n",
            "Total number of questions in the training data: 99.06 %\n",
            "Total number of statement sentences in the training data: 0.42 %\n",
            "Total number of sentences that has digits in the training data: 14.59 %\n"
          ]
        }
      ]
    },
    {
      "cell_type": "markdown",
      "source": [
        "Quora dataset is full of questions but less statement sentences"
      ],
      "metadata": {
        "id": "4oLP7tcwsR4y"
      }
    },
    {
      "cell_type": "markdown",
      "source": [
        "# Data Augmentation"
      ],
      "metadata": {
        "id": "EQSM7gpZKk4N"
      }
    },
    {
      "cell_type": "code",
      "source": [
        "# augment data by swapping input and target sentence"
      ],
      "metadata": {
        "id": "vZ2skzCgKmQk"
      },
      "execution_count": null,
      "outputs": []
    }
  ]
}